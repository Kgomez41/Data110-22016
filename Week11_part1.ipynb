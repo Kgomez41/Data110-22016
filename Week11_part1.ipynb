{
  "cells": [
    {
      "cell_type": "markdown",
      "metadata": {
        "id": "view-in-github",
        "colab_type": "text"
      },
      "source": [
        "<a href=\"https://colab.research.google.com/github/Reben80/Data110-22016/blob/main/Week11_part1.ipynb\" target=\"_parent\"><img src=\"https://colab.research.google.com/assets/colab-badge.svg\" alt=\"Open In Colab\"/></a>"
      ]
    },
    {
      "cell_type": "markdown",
      "metadata": {
        "id": "ox6BA2ofV_3p"
      },
      "source": [
        "# Example 1: John Snow's map\n",
        "\n",
        "Follow the contents of this notebook and answer all questions (e.g. **Q1: ...**)"
      ]
    },
    {
      "cell_type": "code",
      "execution_count": null,
      "metadata": {
        "execution": {
          "iopub.execute_input": "2020-05-17T21:06:43.626Z",
          "iopub.status.busy": "2020-05-17T21:06:43.613Z",
          "iopub.status.idle": "2020-05-17T21:06:43.889Z",
          "shell.execute_reply": "2020-05-17T21:06:43.910Z"
        },
        "id": "DYL0_pF_V_31"
      },
      "outputs": [],
      "source": [
        "import matplotlib.pyplot as plt"
      ]
    },
    {
      "cell_type": "code",
      "execution_count": null,
      "metadata": {
        "execution": {
          "iopub.execute_input": "2020-05-17T21:06:46.182Z",
          "iopub.status.busy": "2020-05-17T21:06:46.167Z",
          "iopub.status.idle": "2020-05-17T21:06:46.474Z",
          "shell.execute_reply": "2020-05-17T21:06:46.486Z"
        },
        "id": "dGK4SkbHV_32"
      },
      "outputs": [],
      "source": [
        "pump_df = pd.read_csv('https://raw.githubusercontent.com/yy/dviz-course/master/data/pumps.csv')"
      ]
    },
    {
      "cell_type": "code",
      "execution_count": null,
      "metadata": {
        "execution": {
          "iopub.execute_input": "2020-05-17T21:06:47.628Z",
          "iopub.status.busy": "2020-05-17T21:06:47.618Z",
          "iopub.status.idle": "2020-05-17T21:06:47.654Z",
          "shell.execute_reply": "2020-05-17T21:06:47.667Z"
        },
        "id": "zGYO51jUV_32"
      },
      "outputs": [],
      "source": [
        "pump_df.head()"
      ]
    },
    {
      "cell_type": "markdown",
      "metadata": {
        "id": "Ab0-qKj0V_33"
      },
      "source": [
        "You can also sample several rows randomly. If the data is sorted in some ways, sampling may give you a rather unbiased view of the dataset.  "
      ]
    },
    {
      "cell_type": "code",
      "execution_count": null,
      "metadata": {
        "id": "fCVmeLMiV_33"
      },
      "outputs": [],
      "source": [
        "pump_df.sample(5)"
      ]
    },
    {
      "cell_type": "markdown",
      "metadata": {
        "id": "InRQ69SmV_34"
      },
      "source": [
        "You can also figure out the number of rows in the dataset by running"
      ]
    },
    {
      "cell_type": "code",
      "execution_count": null,
      "metadata": {
        "execution": {
          "iopub.execute_input": "2020-05-17T21:07:19.267Z",
          "iopub.status.busy": "2020-05-17T21:07:19.255Z",
          "iopub.status.idle": "2020-05-17T21:07:19.295Z",
          "shell.execute_reply": "2020-05-17T21:07:19.308Z"
        },
        "id": "-VPiKjlfV_34"
      },
      "outputs": [],
      "source": [
        "len(pump_df)"
      ]
    },
    {
      "cell_type": "markdown",
      "metadata": {
        "id": "M-W9EAIqV_34"
      },
      "source": [
        "Note that `df.size` does not give you the number of rows. It tells you the number of elements."
      ]
    },
    {
      "cell_type": "code",
      "execution_count": null,
      "metadata": {
        "id": "l-4RoaWiV_35"
      },
      "outputs": [],
      "source": [
        "pump_df.size"
      ]
    },
    {
      "cell_type": "markdown",
      "metadata": {
        "id": "QUzqWROJV_35"
      },
      "source": [
        "You can also look into the shape of the dataset as well as what are the columns in the dataset."
      ]
    },
    {
      "cell_type": "code",
      "execution_count": null,
      "metadata": {
        "id": "Sva1ViTpV_35"
      },
      "outputs": [],
      "source": [
        "pump_df.shape  # 13 rows and 2 columns"
      ]
    },
    {
      "cell_type": "code",
      "execution_count": null,
      "metadata": {
        "id": "d79EmD74V_36"
      },
      "outputs": [],
      "source": [
        "pump_df.columns"
      ]
    },
    {
      "cell_type": "markdown",
      "metadata": {
        "id": "ymyvkdS6V_36"
      },
      "source": [
        "You can also check out basic descriptive statistics of the whole dataset by using `describe()` method.  "
      ]
    },
    {
      "cell_type": "code",
      "execution_count": null,
      "metadata": {
        "id": "fyY-fYaWV_36"
      },
      "outputs": [],
      "source": [
        "pump_df.describe()"
      ]
    },
    {
      "cell_type": "markdown",
      "metadata": {
        "id": "4U61EDtTV_36"
      },
      "source": [
        "You can slice the data like a list"
      ]
    },
    {
      "cell_type": "code",
      "execution_count": null,
      "metadata": {
        "id": "RyV59MJWV_37"
      },
      "outputs": [],
      "source": [
        "pump_df[:2]"
      ]
    },
    {
      "cell_type": "code",
      "execution_count": null,
      "metadata": {
        "id": "ER3mP87SV_37"
      },
      "outputs": [],
      "source": [
        "pump_df[-2:]"
      ]
    },
    {
      "cell_type": "code",
      "execution_count": null,
      "metadata": {
        "id": "jG8Kof38V_37"
      },
      "outputs": [],
      "source": [
        "pump_df[1:5]"
      ]
    },
    {
      "cell_type": "markdown",
      "metadata": {
        "id": "Swl_9wtdV_37"
      },
      "source": [
        "or filter rows using some conditions."
      ]
    },
    {
      "cell_type": "code",
      "execution_count": null,
      "metadata": {
        "id": "8oIj10ytV_37"
      },
      "outputs": [],
      "source": [
        "pump_df[pump_df.X > 13]"
      ]
    },
    {
      "cell_type": "markdown",
      "metadata": {
        "id": "HqcwcbD1V_38"
      },
      "source": [
        "Now let's load another CSV file that documents the cholera deaths. The URL is https://raw.githubusercontent.com/yy/dviz-course/master/data/deaths.csv\n",
        "\n",
        "**Q2: load the death dataset and inspect it**\n",
        "\n",
        "1. **load this dataset as `death_df`.**\n",
        "2. **show the first 2 rows.**\n",
        "3. **show the total number of rows.**"
      ]
    },
    {
      "cell_type": "code",
      "execution_count": null,
      "metadata": {
        "id": "etpbYVYWV_38"
      },
      "outputs": [],
      "source": [
        "death_df=pd.read_csv('https://raw.githubusercontent.com/yy/dviz-course/master/data/deaths.csv')"
      ]
    },
    {
      "cell_type": "markdown",
      "metadata": {
        "id": "kAC-DH-hV_39"
      },
      "source": [
        "## Some visualizations?\n",
        "\n",
        "Let's visualize them! Pandas actually provides [a nice visualization interface](https://pandas.pydata.org/pandas-docs/stable/generated/pandas.DataFrame.plot.html) that uses [matplotlib](https://matplotlib.org) under the hood. You can do many basic plots without learning `matplotlib`. So let's try."
      ]
    },
    {
      "cell_type": "code",
      "execution_count": null,
      "metadata": {
        "id": "ua7HqxqzV_3-"
      },
      "outputs": [],
      "source": [
        "death_df.plot(x='X', y='Y', kind='scatter', label='Deaths')"
      ]
    },
    {
      "cell_type": "markdown",
      "metadata": {
        "id": "orVd0jffV_3-"
      },
      "source": [
        "I think I want to reduce the size of the dots and change the color to black. But it is difficult to find how to do that! It is sometimes quite annoying to figure out how to change how the visualization looks, especially when we use `matplotlib`. Unlike some other advanced tools, `matplotlib` does not provide a very coherent way to adjust your visualizations. That's one of the reasons why there are lots of visualization libraries that *wrap* `matplotlib`. Anyway, this is how you do it.\n"
      ]
    },
    {
      "cell_type": "code",
      "execution_count": null,
      "metadata": {
        "id": "xJjY_vASV_3-"
      },
      "outputs": [],
      "source": [
        "death_df.plot(x='X', y='Y', kind='scatter', label='Deaths', s=2, c='black')"
      ]
    },
    {
      "cell_type": "markdown",
      "metadata": {
        "id": "mmWz1z7AV_3_"
      },
      "source": [
        "Can we visualize both deaths and pumps?"
      ]
    },
    {
      "cell_type": "code",
      "execution_count": null,
      "metadata": {
        "id": "ISvIDLRpV_3_"
      },
      "outputs": [],
      "source": [
        "death_df.plot(x='X', y='Y', s=2, c='black', kind='scatter', label='Deaths')\n",
        "pump_df.plot(x='X', y='Y', kind='scatter', c='red', s=8, label='Pumps')"
      ]
    },
    {
      "cell_type": "markdown",
      "metadata": {
        "id": "Tm-WOGmxeVZ_"
      },
      "source": [
        "Oh well, this is not what we want! We want to overlay them to see them together, right? How can we do that? Before going into that, we probably want to understand some key components of matplotlib figures."
      ]
    },
    {
      "cell_type": "code",
      "execution_count": null,
      "metadata": {
        "id": "LCXtKHnNV_3_"
      },
      "outputs": [],
      "source": [
        "ax = death_df.plot(x='X', y='Y', s=2, c='black', kind='scatter', label='Deaths')"
      ]
    },
    {
      "cell_type": "markdown",
      "metadata": {
        "id": "B3dp1tBFV_4A"
      },
      "source": [
        "This object contains all the information and objects in the plot we see. Whatever we want to do with this axes (e.g., changing x or y scale, overlaying other data, changing the color or size of symbols, etc.) can be done by accessing this object.\n",
        "\n",
        "Then you can pass this axes object to another plot to put both plots in the same axes. Note `ax=ax` in the second plot command. It tells the plot command _where_ to draw the points."
      ]
    },
    {
      "cell_type": "code",
      "execution_count": null,
      "metadata": {
        "id": "C1Q8tKHLV_4A"
      },
      "outputs": [],
      "source": [
        "ax = death_df.plot(x='X', y='Y', s=2, c='black', alpha=0.5, kind='scatter', label='Deaths')\n",
        "pump_df.plot(x='X', y='Y', kind='scatter', c='red', s=8, label='Pumps', ax=ax)"
      ]
    },
    {
      "cell_type": "code",
      "execution_count": null,
      "metadata": {
        "id": "1eIf1U3-V_4A"
      },
      "outputs": [],
      "source": [
        "import matplotlib.pyplot as plt\n",
        "fig, ax = plt.subplots()\n",
        "\n",
        "# YOUR SOLUTION HERE"
      ]
    },
    {
      "cell_type": "markdown",
      "metadata": {
        "id": "6D35-mOsV_4B"
      },
      "source": [
        "## Voronoi diagram\n",
        "\n",
        "Let's try the Voronoi diagram. You can use the `scipy.spatial.Voronoi` and `scipy.spatial.voronoi_plot_2d` from `scipy`, the *scientific python* library."
      ]
    },
    {
      "cell_type": "code",
      "execution_count": null,
      "metadata": {
        "id": "KhTMAkUXV_4B"
      },
      "outputs": [],
      "source": [
        "from scipy.spatial import Voronoi, voronoi_plot_2d"
      ]
    },
    {
      "cell_type": "markdown",
      "metadata": {
        "id": "Lh3AfTGYV_4B"
      },
      "source": [
        "Take a look at the documentation of [Voronoi](https://docs.scipy.org/doc/scipy-0.18.1/reference/generated/scipy.spatial.Voronoi.html#scipy.spatial.Voronoi) and [voronoi_plot_2d](https://docs.scipy.org/doc/scipy-0.18.1/reference/generated/scipy.spatial.voronoi_plot_2d.html) and\n",
        "\n",
        "**Q3: produce a Voronoi diagram that shows the deaths, pumps, and voronoi cells**"
      ]
    },
    {
      "cell_type": "code",
      "execution_count": null,
      "metadata": {
        "id": "wXwXlUiKV_4B"
      },
      "outputs": [],
      "source": [
        "# you'll need this\n",
        "points = pump_df.values\n",
        "points"
      ]
    },
    {
      "cell_type": "code",
      "execution_count": null,
      "metadata": {
        "id": "M4rrcm6wV_4C"
      },
      "outputs": [],
      "source": [
        "# YOUR SOLUTION HERE"
      ]
    },
    {
      "cell_type": "markdown",
      "metadata": {
        "id": "aLkNmyE2V_4C"
      },
      "source": [
        "## Saving the figure\n",
        "\n",
        "You can also save your figure into PDF, PNG, etc. If you run the following, the plot will not only be displayed here, but also be saved as `foo.png`."
      ]
    },
    {
      "cell_type": "code",
      "execution_count": null,
      "metadata": {
        "id": "JzE4wyLFV_4C"
      },
      "outputs": [],
      "source": [
        "import matplotlib.pyplot as plt\n",
        "plt.plot([1,2,3], [4,2,3])\n",
        "plt.savefig('foo.png')"
      ]
    },
    {
      "cell_type": "markdown",
      "metadata": {
        "id": "MLPpKe0lV_4C"
      },
      "source": [
        "**Q4: Save your Voronoi diagram. Make sure that your plot contains the scatterplot of deaths & pumps as well as the Voronoi cells**"
      ]
    },
    {
      "cell_type": "code",
      "execution_count": null,
      "metadata": {
        "id": "2Oc8emUJV_4D"
      },
      "outputs": [],
      "source": [
        "# YOUR SOLUTION HERE"
      ]
    }
  ],
  "metadata": {
    "anaconda-cloud": {},
    "colab": {
      "collapsed_sections": [
        "C5xMCDKLV_4E"
      ],
      "provenance": [],
      "include_colab_link": true
    },
    "kernel_info": {
      "name": "dviz"
    },
    "kernelspec": {
      "display_name": "Python 3",
      "language": "python",
      "name": "python3"
    },
    "language_info": {
      "codemirror_mode": {
        "name": "ipython",
        "version": 3
      },
      "file_extension": ".py",
      "mimetype": "text/x-python",
      "name": "python",
      "nbconvert_exporter": "python",
      "pygments_lexer": "ipython3",
      "version": "3.12.2"
    },
    "nteract": {
      "version": "0.23.1"
    }
  },
  "nbformat": 4,
  "nbformat_minor": 0
}